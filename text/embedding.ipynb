{
 "cells": [
  {
   "cell_type": "markdown",
   "id": "5d857e26-e652-4c27-a30c-8da9739899d4",
   "metadata": {},
   "source": [
    "# BERT Word Embedding"
   ]
  },
  {
   "cell_type": "code",
   "execution_count": null,
   "id": "94aef1f7-3c18-4848-ae40-92a6084f62cd",
   "metadata": {},
   "outputs": [],
   "source": []
  }
 ],
 "metadata": {
  "kernelspec": {
   "display_name": "",
   "name": ""
  },
  "language_info": {
   "name": ""
  }
 },
 "nbformat": 4,
 "nbformat_minor": 5
}
